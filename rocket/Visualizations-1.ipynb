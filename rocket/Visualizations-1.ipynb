{
 "cells": [
  {
   "cell_type": "code",
   "execution_count": 1,
   "metadata": {},
   "outputs": [
    {
     "data": {
      "text/html": [
       "<div>\n",
       "<style scoped>\n",
       "    .dataframe tbody tr th:only-of-type {\n",
       "        vertical-align: middle;\n",
       "    }\n",
       "\n",
       "    .dataframe tbody tr th {\n",
       "        vertical-align: top;\n",
       "    }\n",
       "\n",
       "    .dataframe thead th {\n",
       "        text-align: right;\n",
       "    }\n",
       "</style>\n",
       "<table border=\"1\" class=\"dataframe\">\n",
       "  <thead>\n",
       "    <tr style=\"text-align: right;\">\n",
       "      <th></th>\n",
       "      <th>rocket</th>\n",
       "      <th>family</th>\n",
       "      <th>rock_agency</th>\n",
       "      <th>location</th>\n",
       "      <th>lat</th>\n",
       "      <th>lon</th>\n",
       "      <th>result</th>\n",
       "      <th>failreason</th>\n",
       "      <th>date</th>\n",
       "      <th>lsp_name</th>\n",
       "      <th>lsp_country</th>\n",
       "    </tr>\n",
       "  </thead>\n",
       "  <tbody>\n",
       "    <tr>\n",
       "      <th>0</th>\n",
       "      <td>Falcon 9 v1.1</td>\n",
       "      <td>Falcon</td>\n",
       "      <td>SpaceX</td>\n",
       "      <td>Space Launch Complex 40, Cape Canaveral, FL</td>\n",
       "      <td>28.561941</td>\n",
       "      <td>-80.577357</td>\n",
       "      <td>1</td>\n",
       "      <td>NA</td>\n",
       "      <td>2014-01-06 22:06:00</td>\n",
       "      <td>SpaceX</td>\n",
       "      <td>USA</td>\n",
       "    </tr>\n",
       "    <tr>\n",
       "      <th>1</th>\n",
       "      <td>Antares 120</td>\n",
       "      <td>Antares</td>\n",
       "      <td>Orbital ATK</td>\n",
       "      <td>Launch Area 0 A, Wallops Island, Virginia</td>\n",
       "      <td>37.833700</td>\n",
       "      <td>-75.488100</td>\n",
       "      <td>1</td>\n",
       "      <td>NA</td>\n",
       "      <td>2014-01-09 18:07:05</td>\n",
       "      <td>Orbital Sciences Corporation</td>\n",
       "      <td>USA</td>\n",
       "    </tr>\n",
       "    <tr>\n",
       "      <th>2</th>\n",
       "      <td>Ariane 5 ECA</td>\n",
       "      <td>Ariane</td>\n",
       "      <td>NA</td>\n",
       "      <td>Ariane Launch Area 3, Kourou</td>\n",
       "      <td>5.239000</td>\n",
       "      <td>-52.768000</td>\n",
       "      <td>1</td>\n",
       "      <td>NA</td>\n",
       "      <td>2014-02-06 21:30:07</td>\n",
       "      <td>Arianespace</td>\n",
       "      <td>FRA</td>\n",
       "    </tr>\n",
       "    <tr>\n",
       "      <th>3</th>\n",
       "      <td>Atlas V 401</td>\n",
       "      <td>Atlas</td>\n",
       "      <td>NA</td>\n",
       "      <td>Space Launch Complex 41, Cape Canaveral, FL</td>\n",
       "      <td>28.583410</td>\n",
       "      <td>-80.583036</td>\n",
       "      <td>1</td>\n",
       "      <td>NA</td>\n",
       "      <td>2014-01-24 02:33:00</td>\n",
       "      <td>United Launch Alliance</td>\n",
       "      <td>USA</td>\n",
       "    </tr>\n",
       "    <tr>\n",
       "      <th>4</th>\n",
       "      <td>Soyuz U</td>\n",
       "      <td>Soyuz</td>\n",
       "      <td>NA</td>\n",
       "      <td>1/5, Baikonur Cosmodrome, Kazakhstan</td>\n",
       "      <td>45.920000</td>\n",
       "      <td>63.342000</td>\n",
       "      <td>1</td>\n",
       "      <td>NA</td>\n",
       "      <td>2014-02-05 16:23:32</td>\n",
       "      <td>Russian Federal Space Agency (ROSCOSMOS)</td>\n",
       "      <td>RUS</td>\n",
       "    </tr>\n",
       "  </tbody>\n",
       "</table>\n",
       "</div>"
      ],
      "text/plain": [
       "          rocket   family  rock_agency  \\\n",
       "0  Falcon 9 v1.1   Falcon       SpaceX   \n",
       "1    Antares 120  Antares  Orbital ATK   \n",
       "2   Ariane 5 ECA   Ariane           NA   \n",
       "3    Atlas V 401    Atlas           NA   \n",
       "4        Soyuz U    Soyuz           NA   \n",
       "\n",
       "                                      location        lat        lon  result  \\\n",
       "0  Space Launch Complex 40, Cape Canaveral, FL  28.561941 -80.577357       1   \n",
       "1    Launch Area 0 A, Wallops Island, Virginia  37.833700 -75.488100       1   \n",
       "2                 Ariane Launch Area 3, Kourou   5.239000 -52.768000       1   \n",
       "3  Space Launch Complex 41, Cape Canaveral, FL  28.583410 -80.583036       1   \n",
       "4         1/5, Baikonur Cosmodrome, Kazakhstan  45.920000  63.342000       1   \n",
       "\n",
       "  failreason                date                                  lsp_name  \\\n",
       "0         NA 2014-01-06 22:06:00                                    SpaceX   \n",
       "1         NA 2014-01-09 18:07:05              Orbital Sciences Corporation   \n",
       "2         NA 2014-02-06 21:30:07                               Arianespace   \n",
       "3         NA 2014-01-24 02:33:00                    United Launch Alliance   \n",
       "4         NA 2014-02-05 16:23:32  Russian Federal Space Agency (ROSCOSMOS)   \n",
       "\n",
       "  lsp_country  \n",
       "0         USA  \n",
       "1         USA  \n",
       "2         FRA  \n",
       "3         USA  \n",
       "4         RUS  "
      ]
     },
     "execution_count": 1,
     "metadata": {},
     "output_type": "execute_result"
    }
   ],
   "source": [
    "import requests\n",
    "import json\n",
    "import pandas as pd\n",
    "import matplotlib.pyplot as plt\n",
    "from config import api_key\n",
    "import gmaps\n",
    "# Google developer API key\n",
    "from config1 import gkey\n",
    "# Access maps with unique API key\n",
    "gmaps.configure(api_key=gkey)\n",
    "import datetime\n",
    "import numpy as np\n",
    "rdf = pd.read_pickle('./launches.pickle')\n",
    "rdf.head()"
   ]
  },
  {
   "cell_type": "code",
   "execution_count": 2,
   "metadata": {},
   "outputs": [],
   "source": [
    "year = []\n",
    "rdf['year'] = rdf['date'].dt.year\n",
    "bins = [1969, 1980, 1990, 2000, 2010, 2020]\n",
    "# Create the names for the four bins\n",
    "group_names = [\"1970's\", \"1980's\", \"1990's\", \"2000's\", \"2010's\"]\n",
    "rdf[\"Decade\"] = pd.cut(rdf[\"year\"], bins, labels=group_names)\n",
    "rdf_f = rdf.loc[rdf['result'] == 0]\n",
    "rdf_p = rdf.loc[rdf['result'] == 1]"
   ]
  },
  {
   "cell_type": "code",
   "execution_count": 3,
   "metadata": {},
   "outputs": [
    {
     "data": {
      "image/png": "[encoded data removed]",
      "text/plain": [
       "<Figure size 1080x360 with 1 Axes>"
      ]
     },
     "metadata": {
      "needs_background": "light"
     },
     "output_type": "display_data"
    }
   ],
   "source": [
    "plt.figure(figsize=(15,5))\n",
    "plt.scatter(list(rdf_p[\"year\"].unique()),list(rdf_p['year'].value_counts()),35, marker=\"o\", facecolors=\"green\", edgecolors=\"green\",label='Successes')\n",
    "plt.scatter(list(rdf_f[\"year\"].unique()),list(rdf_f['year'].value_counts()),30, marker=\"o\", facecolors=\"red\", edgecolors=\"red\",label='Failures')\n",
    "plt.title(\"Rocket Lauch Successes/Failures per Year\")\n",
    "plt.xlabel(\"Years\")\n",
    "plt.ylabel(\"Number of Rocket Launches\")\n",
    "plt.grid(which = 'major')\n",
    "plt.legend()\n",
    "plt.savefig('../Rocket Lauch Successes_Failures per Year.png')"
   ]
  },
  {
   "cell_type": "code",
   "execution_count": 4,
   "metadata": {},
   "outputs": [
    {
     "data": {
      "image/png": "[encoded data removed]",
      "text/plain": [
       "<Figure size 720x576 with 1 Axes>"
      ]
     },
     "metadata": {
      "needs_background": "light"
     },
     "output_type": "display_data"
    }
   ],
   "source": [
    "plt.figure(figsize=(10,8))\n",
    "plt.bar(group_names, rdf_p.groupby([\"Decade\"]).count()[\"rocket\"], color='r',width = 0.4, align=\"center\")\n",
    "plt.title(\"Rocket Lauch Successes per Decade\")\n",
    "plt.xlabel(\"Decade\")\n",
    "plt.ylabel(\"Number of Rocket Launches\")\n",
    "plt.grid(axis = 'y')\n",
    "plt.savefig('../Rocket Lauch Successes per Decade.png')"
   ]
  },
  {
   "cell_type": "code",
   "execution_count": 5,
   "metadata": {},
   "outputs": [
    {
     "data": {
      "image/png": "[encoded data removed]",
      "text/plain": [
       "<Figure size 720x576 with 1 Axes>"
      ]
     },
     "metadata": {
      "needs_background": "light"
     },
     "output_type": "display_data"
    }
   ],
   "source": [
    "plt.figure(figsize=(10,8))\n",
    "plt.bar(group_names, rdf_f.groupby([\"Decade\"]).count()[\"rocket\"], color='b',width = 0.4, align=\"center\")\n",
    "plt.title(\"Rocket Lauch Failures per Decade\")\n",
    "plt.xlabel(\"Decade\")\n",
    "plt.ylabel(\"Number of Rocket Launches\")\n",
    "plt.grid(axis = 'y')\n",
    "plt.savefig('../Rocket Lauch Failures per Decade.png')"
   ]
  },
  {
   "cell_type": "code",
   "execution_count": 12,
   "metadata": {},
   "outputs": [
    {
     "data": {
      "application/vnd.jupyter.widget-view+json": {
       "model_id": "df364df845e244d48ec76fc8a215f73a",
       "version_major": 2,
       "version_minor": 0
      },
      "text/plain": [
       "Figure(layout=FigureLayout(border='1px solid black', height='1500px', margin='0 auto 0 auto', padding='1px', w…"
      ]
     },
     "metadata": {},
     "output_type": "display_data"
    }
   ],
   "source": [
    "z = [ (a,b) for a in rdf_f['lat'] for b in rdf_f['lon'] ]\n",
    "# Customize the size of the figure\n",
    "figure_layout = {\n",
    "    'width': '1500px',\n",
    "    'height': '1500px',\n",
    "    'border': '1px solid black',\n",
    "    'padding': '1px',\n",
    "    'margin': '0 auto 0 auto'\n",
    "}\n",
    "fig = gmaps.figure(layout=figure_layout) \n",
    "# Assign the marker layer to a variable\n",
    "markers = gmaps.marker_layer(z)\n",
    "# Add the layer to the map\n",
    "fig.add_layer(markers)\n",
    "fig"
   ]
  },
  {
   "cell_type": "code",
   "execution_count": null,
   "metadata": {},
   "outputs": [],
   "source": [
    "z1 = [ (c,d) for c in rdf_p['lat'] for d in rdf_p['lon'] ]\n",
    "# Customize the size of the figure\n",
    "figure_layout = {\n",
    "    'width': '1500px',\n",
    "    'height': '1500px',\n",
    "    'border': '1px solid black',\n",
    "    'padding': '1px',\n",
    "    'margin': '0 auto 0 auto'\n",
    "}\n",
    "fig1 = gmaps.figure(layout=figure_layout) \n",
    "# Assign the marker layer to a variable\n",
    "markers = gmaps.marker_layer(z1)\n",
    "# Add the layer to the map\n",
    "fig1.add_layer(markers)\n",
    "fig1"
   ]
  },
  {
   "cell_type": "code",
   "execution_count": null,
   "metadata": {},
   "outputs": [],
   "source": []
  }
 ],
 "metadata": {
  "kernelspec": {
   "display_name": "Python 3",
   "language": "python",
   "name": "python3"
  },
  "language_info": {
   "codemirror_mode": {
    "name": "ipython",
    "version": 3
   },
   "file_extension": ".py",
   "mimetype": "text/x-python",
   "name": "python",
   "nbconvert_exporter": "python",
   "pygments_lexer": "ipython3",
   "version": "3.7.0"
  }
 },
 "nbformat": 4,
 "nbformat_minor": 2
}
